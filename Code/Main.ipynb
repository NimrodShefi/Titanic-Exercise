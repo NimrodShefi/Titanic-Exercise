{
 "cells": [
  {
   "cell_type": "code",
   "execution_count": 21,
   "metadata": {},
   "outputs": [],
   "source": [
    "import numpy as np\n",
    "import pandas as pd\n",
    "import seaborn as sb\n",
    "import matplotlib.pyplot as plt\n",
    "import matplotlib \n",
    "#from sklearn.linear_model import LinearRegression as lr\n",
    "from sklearn import metrics\n",
    "from sklearn.neighbors import KNeighborsClassifier \n",
    "from sklearn.model_selection import train_test_split\n",
    "from tqdm import tqdm\n",
    "from statistics import mean"
   ]
  },
  {
   "cell_type": "code",
   "execution_count": 2,
   "metadata": {},
   "outputs": [],
   "source": [
    "trainData = pd.read_csv(\"../Data/train.csv\", index_col = 0)\n",
    "testData = pd.read_csv(\"../Data/test.csv\", index_col = 0)\n",
    "mean_value = trainData['Age'].mean()\n",
    "trainData['Age'] = trainData['Age'].fillna(29.7)\n",
    "testData['Fare'] = testData['Fare'].fillna(testData['Fare'].mean())"
   ]
  },
  {
   "cell_type": "code",
   "execution_count": 3,
   "metadata": {},
   "outputs": [],
   "source": [
    "xTrain = trainData[[\"Pclass\", \"SibSp\", \"Parch\", \"Fare\",\"Embarked\",\"Sex\"]]\n",
    "xTrain = pd.concat([xTrain, pd.get_dummies(xTrain[\"Embarked\"],prefix = \"Embarked\")],axis = 1)\n",
    "xTrain = pd.concat([xTrain, pd.get_dummies(xTrain[\"Sex\"],prefix = \"Sex\")],axis = 1)\n",
    "xTrain.drop([\"Embarked\",\"Sex\"],axis = 1, inplace = True)\n",
    "\n",
    "yTrain = trainData[\"Survived\"]\n",
    "\n",
    "\n",
    "xTest = testData[[\"Pclass\", \"SibSp\", \"Parch\", \"Fare\",\"Embarked\",\"Sex\"]]\n",
    "xTest = pd.concat([xTest, pd.get_dummies(xTest[\"Embarked\"],prefix = \"Embarked\")],axis = 1)\n",
    "xTest = pd.concat([xTest, pd.get_dummies(xTest[\"Sex\"],prefix = \"Sex\")],axis = 1)\n",
    "xTest.drop([\"Embarked\",\"Sex\"],axis = 1, inplace = True)"
   ]
  },
  {
   "cell_type": "code",
   "execution_count": 4,
   "metadata": {},
   "outputs": [
    {
     "name": "stdout",
     "output_type": "stream",
     "text": [
      "             Pclass  SibSp  Parch     Fare  Embarked_C  Embarked_Q  \\\n",
      "PassengerId                                                          \n",
      "892               3      0      0   7.8292           0           1   \n",
      "893               3      1      0   7.0000           0           0   \n",
      "894               2      0      0   9.6875           0           1   \n",
      "895               3      0      0   8.6625           0           0   \n",
      "896               3      1      1  12.2875           0           0   \n",
      "897               3      0      0   9.2250           0           0   \n",
      "898               3      0      0   7.6292           0           1   \n",
      "899               2      1      1  29.0000           0           0   \n",
      "900               3      0      0   7.2292           1           0   \n",
      "901               3      2      0  24.1500           0           0   \n",
      "902               3      0      0   7.8958           0           0   \n",
      "903               1      0      0  26.0000           0           0   \n",
      "904               1      1      0  82.2667           0           0   \n",
      "905               2      1      0  26.0000           0           0   \n",
      "906               1      1      0  61.1750           0           0   \n",
      "907               2      1      0  27.7208           1           0   \n",
      "908               2      0      0  12.3500           0           1   \n",
      "909               3      0      0   7.2250           1           0   \n",
      "910               3      1      0   7.9250           0           0   \n",
      "911               3      0      0   7.2250           1           0   \n",
      "\n",
      "             Embarked_S  Sex_female  Sex_male  \n",
      "PassengerId                                    \n",
      "892                   0           0         1  \n",
      "893                   1           1         0  \n",
      "894                   0           0         1  \n",
      "895                   1           0         1  \n",
      "896                   1           1         0  \n",
      "897                   1           0         1  \n",
      "898                   0           1         0  \n",
      "899                   1           0         1  \n",
      "900                   0           1         0  \n",
      "901                   1           0         1  \n",
      "902                   1           0         1  \n",
      "903                   1           0         1  \n",
      "904                   1           1         0  \n",
      "905                   1           0         1  \n",
      "906                   1           1         0  \n",
      "907                   0           1         0  \n",
      "908                   0           0         1  \n",
      "909                   0           0         1  \n",
      "910                   1           1         0  \n",
      "911                   0           1         0  \n"
     ]
    }
   ],
   "source": [
    "# print(trainData.head(20))\n",
    "print(xTest.head(20))"
   ]
  },
  {
   "cell_type": "code",
   "execution_count": 5,
   "metadata": {},
   "outputs": [],
   "source": [
    "x_train, x_test, y_train, y_test = train_test_split(xTrain,yTrain, test_size = 0.4) "
   ]
  },
  {
   "cell_type": "code",
   "execution_count": 6,
   "metadata": {},
   "outputs": [],
   "source": [
    "scores = []\n",
    "for k in range(1, 150):\n",
    "    knn = KNeighborsClassifier(n_neighbors = k)\n",
    "    knn.fit(x_train,y_train)\n",
    "    y_pred = knn.predict(x_test)\n",
    "    scores.append(metrics.accuracy_score(y_test, y_pred))"
   ]
  },
  {
   "cell_type": "code",
   "execution_count": 7,
   "metadata": {},
   "outputs": [
    {
     "name": "stdout",
     "output_type": "stream",
     "text": [
      "0.7086834733893558 0\n",
      "0.6834733893557423 1\n",
      "0.7254901960784313 2\n",
      "0.7170868347338936 3\n",
      "0.7563025210084033 4\n",
      "0.7366946778711485 5\n",
      "0.7450980392156863 6\n",
      "0.7254901960784313 7\n",
      "0.7366946778711485 8\n",
      "0.7282913165266106 9\n",
      "0.7338935574229691 10\n",
      "0.7282913165266106 11\n",
      "0.7226890756302521 12\n",
      "0.7366946778711485 13\n",
      "0.7310924369747899 14\n",
      "0.7338935574229691 15\n",
      "0.7198879551820728 16\n",
      "0.7226890756302521 17\n",
      "0.7198879551820728 18\n",
      "0.7170868347338936 19\n",
      "0.7142857142857143 20\n",
      "0.7142857142857143 21\n",
      "0.7142857142857143 22\n",
      "0.7170868347338936 23\n",
      "0.7226890756302521 24\n",
      "0.6862745098039216 25\n",
      "0.6974789915966386 26\n",
      "0.7002801120448179 27\n",
      "0.6918767507002801 28\n",
      "0.6862745098039216 29\n",
      "0.6750700280112045 30\n",
      "0.680672268907563 31\n",
      "0.680672268907563 32\n",
      "0.6722689075630253 33\n",
      "0.6862745098039216 34\n",
      "0.6834733893557423 35\n",
      "0.6862745098039216 36\n",
      "0.6862745098039216 37\n",
      "0.6974789915966386 38\n",
      "0.6890756302521008 39\n",
      "0.6918767507002801 40\n",
      "0.6778711484593838 41\n",
      "0.6862745098039216 42\n",
      "0.680672268907563 43\n",
      "0.6750700280112045 44\n",
      "0.6750700280112045 45\n",
      "0.6750700280112045 46\n",
      "0.6638655462184874 47\n",
      "0.6750700280112045 48\n",
      "0.6638655462184874 49\n",
      "0.6722689075630253 50\n",
      "0.6442577030812325 51\n",
      "0.6414565826330533 52\n",
      "0.6358543417366946 53\n",
      "0.6442577030812325 54\n",
      "0.6358543417366946 55\n",
      "0.6330532212885154 56\n",
      "0.6358543417366946 57\n",
      "0.6274509803921569 58\n",
      "0.6302521008403361 59\n",
      "0.6274509803921569 60\n",
      "0.6302521008403361 61\n",
      "0.6302521008403361 62\n",
      "0.6330532212885154 63\n",
      "0.6386554621848739 64\n",
      "0.6386554621848739 65\n",
      "0.6386554621848739 66\n",
      "0.6386554621848739 67\n",
      "0.6414565826330533 68\n",
      "0.6386554621848739 69\n",
      "0.6414565826330533 70\n",
      "0.6386554621848739 71\n",
      "0.6414565826330533 72\n",
      "0.6386554621848739 73\n",
      "0.6414565826330533 74\n",
      "0.6386554621848739 75\n",
      "0.6386554621848739 76\n",
      "0.6358543417366946 77\n",
      "0.6386554621848739 78\n",
      "0.6358543417366946 79\n",
      "0.6358543417366946 80\n",
      "0.6358543417366946 81\n",
      "0.6414565826330533 82\n",
      "0.6358543417366946 83\n",
      "0.6358543417366946 84\n",
      "0.6358543417366946 85\n",
      "0.6358543417366946 86\n",
      "0.6358543417366946 87\n",
      "0.6358543417366946 88\n",
      "0.6358543417366946 89\n",
      "0.6358543417366946 90\n",
      "0.6358543417366946 91\n",
      "0.6358543417366946 92\n",
      "0.6358543417366946 93\n",
      "0.6358543417366946 94\n",
      "0.6358543417366946 95\n",
      "0.6358543417366946 96\n",
      "0.6358543417366946 97\n",
      "0.6358543417366946 98\n",
      "0.6358543417366946 99\n",
      "0.6358543417366946 100\n",
      "0.6358543417366946 101\n",
      "0.6358543417366946 102\n",
      "0.6358543417366946 103\n",
      "0.6358543417366946 104\n",
      "0.6358543417366946 105\n",
      "0.6358543417366946 106\n",
      "0.6358543417366946 107\n",
      "0.6358543417366946 108\n",
      "0.6358543417366946 109\n",
      "0.6358543417366946 110\n",
      "0.6358543417366946 111\n",
      "0.6358543417366946 112\n",
      "0.6274509803921569 113\n",
      "0.6274509803921569 114\n",
      "0.6330532212885154 115\n",
      "0.6358543417366946 116\n",
      "0.6358543417366946 117\n",
      "0.6386554621848739 118\n",
      "0.6330532212885154 119\n",
      "0.6358543417366946 120\n",
      "0.6330532212885154 121\n",
      "0.6330532212885154 122\n",
      "0.6330532212885154 123\n",
      "0.6246498599439776 124\n",
      "0.6414565826330533 125\n",
      "0.6470588235294118 126\n",
      "0.6414565826330533 127\n",
      "0.6442577030812325 128\n",
      "0.6442577030812325 129\n",
      "0.6442577030812325 130\n",
      "0.6358543417366946 131\n",
      "0.6470588235294118 132\n",
      "0.6470588235294118 133\n",
      "0.6358543417366946 134\n",
      "0.6358543417366946 135\n",
      "0.6414565826330533 136\n",
      "0.6330532212885154 137\n",
      "0.6386554621848739 138\n",
      "0.6386554621848739 139\n",
      "0.6442577030812325 140\n",
      "0.6554621848739496 141\n",
      "0.6358543417366946 142\n",
      "0.6442577030812325 143\n",
      "0.6358543417366946 144\n",
      "0.6358543417366946 145\n",
      "0.6358543417366946 146\n",
      "0.6358543417366946 147\n",
      "0.6358543417366946 148\n"
     ]
    },
    {
     "data": {
      "text/plain": [
       "<matplotlib.collections.PathCollection at 0x13b1c5fa4e0>"
      ]
     },
     "execution_count": 7,
     "metadata": {},
     "output_type": "execute_result"
    },
    {
     "data": {
      "image/png": "[encoded data removed]",
      "text/plain": [
       "<Figure size 432x288 with 1 Axes>"
      ]
     },
     "metadata": {
      "needs_background": "light"
     },
     "output_type": "display_data"
    }
   ],
   "source": [
    "%matplotlib inline\n",
    "for i in range(len(scores)):\n",
    "    print(scores[i],i)\n",
    "plt.scatter(list(range(1,150)), scores)"
   ]
  },
  {
   "cell_type": "code",
   "execution_count": 8,
   "metadata": {},
   "outputs": [
    {
     "name": "stdout",
     "output_type": "stream",
     "text": [
      "(891, 9)\n",
      "(891,)\n"
     ]
    }
   ],
   "source": [
    "print(xTrain.shape)\n",
    "print(yTrain.shape)"
   ]
  },
  {
   "cell_type": "code",
   "execution_count": 9,
   "metadata": {},
   "outputs": [
    {
     "name": "stderr",
     "output_type": "stream",
     "text": [
      "100%|████████████████████████████████████████████████████████████████████████████████| 149/149 [00:16<00:00,  9.24it/s]\n"
     ]
    },
    {
     "data": {
      "text/plain": [
       "<matplotlib.collections.PathCollection at 0x13b1c6c9fd0>"
      ]
     },
     "execution_count": 9,
     "metadata": {},
     "output_type": "execute_result"
    },
    {
     "data": {
      "image/png": "[encoded data removed]",
      "text/plain": [
       "<Figure size 432x288 with 1 Axes>"
      ]
     },
     "metadata": {
      "needs_background": "light"
     },
     "output_type": "display_data"
    }
   ],
   "source": [
    "# from sklearn import KFold\n",
    "# kf = KFold(n_split = 5,shuffle = false).split(range(891))\n",
    "scores = []\n",
    "from sklearn.model_selection import cross_val_score\n",
    "for k in tqdm(range(1,150)):\n",
    "    knn = KNeighborsClassifier(n_neighbors = k)\n",
    "    kscores = cross_val_score(knn,xTrain,yTrain,cv = 10,scoring = \"accuracy\")\n",
    "    scores.append(kscores.mean())\n",
    "plt.scatter(list(range(1,150)),scores)"
   ]
  },
  {
   "cell_type": "code",
   "execution_count": 10,
   "metadata": {},
   "outputs": [
    {
     "name": "stdout",
     "output_type": "stream",
     "text": [
      "8\n",
      "0.7397565543071162\n"
     ]
    }
   ],
   "source": [
    "print(scores.index(max(scores)))\n",
    "print(scores[16])"
   ]
  },
  {
   "cell_type": "code",
   "execution_count": 11,
   "metadata": {},
   "outputs": [
    {
     "name": "stdout",
     "output_type": "stream",
     "text": [
      "[0 1 0 0 1 0 1 1 1 0 0 0 1 0 1 0 0 0 0 1 1 0 1 1 1 0 1 0 1 0 0 0 1 0 1 0 0\n",
      " 0 0 1 0 0 0 1 1 0 0 0 1 1 1 0 1 1 0 0 0 0 0 1 0 0 0 1 1 0 1 0 0 1 1 0 0 0\n",
      " 1 1 0 1 0 1 0 1 0 0 0 0 1 0 1 0 0 0 1 0 1 0 1 0 0 0 1 0 0 0 1 0 0 0 0 0 0\n",
      " 1 0 1 1 0 0 1 1 1 1 0 1 0 0 1 0 1 0 0 0 0 0 0 0 0 0 0 0 0 0 1 1 0 0 0 0 0\n",
      " 0 0 1 0 0 1 0 0 1 0 0 1 1 0 1 0 0 1 0 0 0 0 0 0 0 0 0 1 0 1 1 1 0 1 1 0 1\n",
      " 0 1 0 0 0 0 0 0 0 0 0 1 0 0 0 0 0 1 1 0 0 1 0 0 0 0 0 0 1 0 0 1 1 1 0 0 0\n",
      " 1 0 0 0 0 1 0 0 0 1 0 0 0 0 1 0 1 1 0 1 1 0 0 0 0 0 1 0 1 0 1 0 0 0 0 0 1\n",
      " 0 0 0 1 1 0 0 0 0 0 0 1 0 1 0 0 1 0 0 0 0 0 0 1 0 0 0 0 1 0 0 0 1 0 1 0 0\n",
      " 1 0 0 0 0 0 0 0 1 1 1 0 1 0 0 0 0 1 1 1 1 0 0 0 0 0 0 0 1 0 1 1 0 0 1 0 0\n",
      " 1 0 0 0 0 1 0 0 0 1 1 0 0 0 1 0 0 0 0 0 0 1 0 1 0 0 1 0 1 0 0 1 1 0 0 1 0\n",
      " 0 1 0 0 1 1 0 0 0 0 0 0 0 1 0 0 0 0 0 0 1 0 0 0 0 1 0 1 0 0 1 0 1 0 0 0 0\n",
      " 1 1 0 1 1 0 0 1 0 0 0]\n"
     ]
    }
   ],
   "source": [
    "knn = KNeighborsClassifier(n_neighbors = 8)\n",
    "knn.fit(xTrain, yTrain)\n",
    "result = knn.predict(xTest)\n",
    "print(result)"
   ]
  },
  {
   "cell_type": "code",
   "execution_count": 12,
   "metadata": {},
   "outputs": [],
   "source": [
    "import csv\n",
    "\n",
    "with open('../Results/Version_1.csv', mode='w', newline='') as file:\n",
    "    file_writer = csv.writer(file, delimiter=',')\n",
    "    file_writer.writerow(['PassengerId', 'Survived'])\n",
    "    for i in range(len(result)):\n",
    "        file_writer.writerow([i+892, result[i]])"
   ]
  },
  {
   "cell_type": "code",
   "execution_count": 34,
   "metadata": {},
   "outputs": [
    {
     "name": "stderr",
     "output_type": "stream",
     "text": [
      "100%|████████████████████████████████████████████████████████████████████████████████| 100/100 [00:12<00:00,  7.56it/s]\n"
     ]
    },
    {
     "name": "stdout",
     "output_type": "stream",
     "text": [
      "0.7871148459383753\n"
     ]
    }
   ],
   "source": [
    "#for train data\n",
    "results = []\n",
    "from sklearn.ensemble import RandomForestClassifier\n",
    "for i in tqdm(range(100)):\n",
    "    clf = RandomForestClassifier(n_estimators = 100,random_state=1,warm_start=True)\n",
    "    clf.fit(x_train,y_train)\n",
    "    y_pred = clf.predict(x_test)\n",
    "    results.append(metrics.accuracy_score(y_test, y_pred))\n",
    "# feature_imp = pd.Series(clf.feature_importances_,index=[\"Pclass\",\"SibSp\",\"Parch\",\"Fare\",\"Embarked_C\",\"Embarked_Q\",\"Embarked_S\",\"Sex_female\",\"Sex_male\"]).sort_values(ascending=False)\n",
    "# print(feature_imp)\n",
    "print(mean(results))"
   ]
  },
  {
   "cell_type": "markdown",
   "metadata": {},
   "source": [
    "n_estimators = 100 : 0.7823529411764706\n",
    "n_estimators = 500 : 0.7817086834733894\n",
    "n_estimators = 50 : 0.783249299719888\n",
    "n_estimators = 100,bootstrap=False : 0.7751820728291317\n",
    "n_estimators = 100,criterion='entropy' : 0.7815966386554621\n",
    "n_estimators = 100,oob_score=True : 0.7835014005602241\n",
    "n_estimators = 100,random_state=1 : 0.7871148459383753"
   ]
  },
  {
   "cell_type": "code",
   "execution_count": 16,
   "metadata": {},
   "outputs": [
    {
     "name": "stdout",
     "output_type": "stream",
     "text": [
      "[0 1 0 0 1 0 0 0 1 0 0 0 1 0 1 1 0 0 0 1 1 0 1 0 1 0 1 0 1 0 0 0 0 0 1 0 0\n",
      " 0 0 1 1 0 0 1 1 0 1 0 1 1 0 0 1 1 0 0 0 0 0 1 0 0 0 1 0 1 1 0 0 0 1 0 1 0\n",
      " 1 0 0 1 0 1 1 1 0 0 0 0 1 0 1 1 0 0 1 0 0 0 1 0 0 0 1 0 0 0 1 0 0 0 0 0 0\n",
      " 1 1 0 1 0 0 1 1 1 1 0 1 0 0 1 0 1 0 0 0 0 0 0 0 0 0 0 0 0 0 1 0 0 0 0 0 0\n",
      " 0 1 1 0 0 1 0 0 1 0 0 1 1 1 1 0 0 1 0 0 1 0 0 0 0 0 0 1 1 1 1 1 0 1 1 0 1\n",
      " 0 1 0 0 0 0 0 0 0 1 0 0 0 0 0 1 0 0 1 0 0 1 0 1 0 0 0 0 1 1 0 1 0 1 0 1 0\n",
      " 1 0 1 0 0 1 0 0 0 1 0 0 1 0 1 0 1 1 1 1 0 0 0 0 1 0 1 0 1 0 0 0 0 0 0 0 1\n",
      " 0 0 0 1 1 0 0 0 0 0 0 1 0 1 1 0 1 0 0 0 0 0 0 1 0 1 0 0 0 0 0 0 0 0 0 0 0\n",
      " 1 0 0 0 0 0 0 0 1 1 1 0 0 0 0 0 0 1 1 1 0 0 0 0 0 0 0 0 1 0 1 0 0 0 1 1 0\n",
      " 0 0 0 0 0 0 0 0 0 0 1 0 1 0 1 0 1 1 0 0 0 0 0 1 0 0 1 0 1 1 0 1 0 0 0 1 1\n",
      " 0 1 0 0 1 1 0 0 0 0 0 0 1 1 0 1 0 0 0 0 0 1 1 0 0 1 0 1 0 0 1 0 1 0 1 1 0\n",
      " 0 1 0 1 1 0 0 1 0 0 1]\n",
      "418\n"
     ]
    }
   ],
   "source": [
    "# for test data\n",
    "clf = RandomForestClassifier(n_estimators = 100)\n",
    "clf.fit(xTrain,yTrain)\n",
    "y_pred = clf.predict(xTest)\n",
    "print(y_pred)\n",
    "print(len(y_pred))"
   ]
  },
  {
   "cell_type": "code",
   "execution_count": 17,
   "metadata": {},
   "outputs": [],
   "source": [
    "with open('../Results/Version_2.csv', mode='w', newline='') as file:\n",
    "    file_writer = csv.writer(file, delimiter=',')\n",
    "    file_writer.writerow(['PassengerId', 'Survived'])\n",
    "    for i in range(len(result)):\n",
    "        file_writer.writerow([i+892, y_pred[i]])"
   ]
  }
 ],
 "metadata": {
  "kernelspec": {
   "display_name": "Python 3",
   "language": "python",
   "name": "python3"
  },
  "language_info": {
   "codemirror_mode": {
    "name": "ipython",
    "version": 3
   },
   "file_extension": ".py",
   "mimetype": "text/x-python",
   "name": "python",
   "nbconvert_exporter": "python",
   "pygments_lexer": "ipython3",
   "version": "3.7.0"
  }
 },
 "nbformat": 4,
 "nbformat_minor": 2
}
