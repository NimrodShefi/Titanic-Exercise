{
 "cells": [
  {
   "cell_type": "code",
   "execution_count": 1,
   "metadata": {},
   "outputs": [],
   "source": [
    "import numpy as np\n",
    "import pandas as pd\n",
    "import seaborn as sb\n",
    "import matplotlib.pyplot as plt\n",
    "import matplotlib \n",
    "from tqdm import tqdm\n",
    "from statistics import mean\n",
    "%matplotlib inline"
   ]
  },
  {
   "cell_type": "code",
   "execution_count": 2,
   "metadata": {},
   "outputs": [],
   "source": [
    "trainData = pd.read_csv(\"../Data/train.csv\", index_col = 0)\n",
    "testData = pd.read_csv(\"../Data/test.csv\", index_col = 0)\n",
    "mean_value = trainData['Age'].mean()\n",
    "trainData['Age'] = trainData['Age'].fillna(29.7)\n",
    "testData['Fare'] = testData['Fare'].fillna(testData['Fare'].mean())"
   ]
  },
  {
   "cell_type": "code",
   "execution_count": 6,
   "metadata": {},
   "outputs": [],
   "source": [
    "xTrain = trainData[[\"Pclass\", \"SibSp\", \"Parch\", \"Fare\",\"Embarked\",\"Sex\",\"Name\"]]\n",
    "xTrain = pd.concat([xTrain, pd.get_dummies(xTrain[\"Embarked\"],prefix = \"Embarked\")],axis = 1)\n",
    "xTrain = pd.concat([xTrain, pd.get_dummies(xTrain[\"Sex\"],prefix = \"Sex\")],axis = 1)\n",
    "xTrain.drop([\"Embarked\",\"Sex\", \"Name\"],axis = 1, inplace = True)\n",
    "\n",
    "\n",
    "yTrain = trainData[\"Survived\"]\n",
    "\n",
    "\n",
    "xTest = testData[[\"Pclass\", \"SibSp\", \"Parch\", \"Fare\",\"Embarked\",\"Sex\", \"Name\"]]\n",
    "xTest = pd.concat([xTest, pd.get_dummies(xTest[\"Embarked\"],prefix = \"Embarked\")],axis = 1)\n",
    "xTest = pd.concat([xTest, pd.get_dummies(xTest[\"Sex\"],prefix = \"Sex\")],axis = 1)\n",
    "xTest.drop([\"Embarked\",\"Sex\",\"Name\"],axis = 1, inplace = True)"
   ]
  },
  {
   "cell_type": "code",
   "execution_count": 7,
   "metadata": {},
   "outputs": [],
   "source": [
    "xTrain['Title'] = xTrain['Name'].apply(lambda x: x.split(',')[1].split('.')[0].strip())\n",
    "xTest['Title'] = xTest['Name'].apply(lambda x: x.split(',')[1].split('.')[0].strip())"
   ]
  },
  {
   "cell_type": "code",
   "execution_count": 9,
   "metadata": {},
   "outputs": [],
   "source": [
    "# Substitute rare female titles\n",
    "xTrain['Title'].replace(['Mme', 'Ms', 'Lady', 'Mlle', 'the Countess', 'Dona'], 'Miss', inplace=True)\n",
    "xTest['Title'].replace(['Mme', 'Ms', 'Lady', 'Mlle', 'the Countess', 'Dona'], 'Miss', inplace=True)\n",
    "# Substitute rare male titles\n",
    "xTrain['Title'].replace(['Major', 'Col', 'Capt', 'Don', 'Sir', 'Jonkheer'], 'Mr', inplace=True)\n",
    "xTest['Title'].replace(['Major', 'Col', 'Capt', 'Don', 'Sir', 'Jonkheer'], 'Mr', inplace=True)"
   ]
  },
  {
   "cell_type": "code",
   "execution_count": 10,
   "metadata": {},
   "outputs": [
    {
     "name": "stdout",
     "output_type": "stream",
     "text": [
      "             Pclass  SibSp  Parch     Fare  \\\n",
      "PassengerId                                  \n",
      "1                 3      1      0   7.2500   \n",
      "2                 1      1      0  71.2833   \n",
      "3                 3      0      0   7.9250   \n",
      "4                 1      1      0  53.1000   \n",
      "5                 3      0      0   8.0500   \n",
      "\n",
      "                                                          Name  Embarked_C  \\\n",
      "PassengerId                                                                  \n",
      "1                                      Braund, Mr. Owen Harris           0   \n",
      "2            Cumings, Mrs. John Bradley (Florence Briggs Th...           1   \n",
      "3                                       Heikkinen, Miss. Laina           0   \n",
      "4                 Futrelle, Mrs. Jacques Heath (Lily May Peel)           0   \n",
      "5                                     Allen, Mr. William Henry           0   \n",
      "\n",
      "             Embarked_Q  Embarked_S  Sex_female  Sex_male Title  \n",
      "PassengerId                                                      \n",
      "1                     0           1           0         1    Mr  \n",
      "2                     0           0           1         0   Mrs  \n",
      "3                     0           1           1         0  Miss  \n",
      "4                     0           1           1         0   Mrs  \n",
      "5                     0           1           0         1    Mr  \n"
     ]
    }
   ],
   "source": [
    "print(xTrain.head())"
   ]
  },
  {
   "cell_type": "code",
   "execution_count": null,
   "metadata": {},
   "outputs": [],
   "source": []
  }
 ],
 "metadata": {
  "kernelspec": {
   "display_name": "Python 3",
   "language": "python",
   "name": "python3"
  },
  "language_info": {
   "codemirror_mode": {
    "name": "ipython",
    "version": 3
   },
   "file_extension": ".py",
   "mimetype": "text/x-python",
   "name": "python",
   "nbconvert_exporter": "python",
   "pygments_lexer": "ipython3",
   "version": "3.7.3"
  }
 },
 "nbformat": 4,
 "nbformat_minor": 2
}
