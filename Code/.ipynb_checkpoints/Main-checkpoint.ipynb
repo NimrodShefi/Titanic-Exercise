{
 "cells": [
  {
   "cell_type": "code",
   "execution_count": 52,
   "metadata": {},
   "outputs": [],
   "source": [
    "import numpy as np\n",
    "import pandas as pd\n",
    "import seaborn as sb\n",
    "import matplotlib.pyplot as plt\n",
    "import matplotlib \n",
    "#from sklearn.linear_model import LinearRegression as lr\n",
    "from sklearn import metrics\n",
    "from sklearn.neighbors import KNeighborsClassifier \n",
    "from sklearn.model_selection import train_test_split\n",
    "from tqdm import tqdm"
   ]
  },
  {
   "cell_type": "code",
   "execution_count": 72,
   "metadata": {},
   "outputs": [],
   "source": [
    "trainData = pd.read_csv(\"../Data/train.csv\", index_col = 0)\n",
    "testData = pd.read_csv(\"../Data/test.csv\", index_col = 0)\n",
    "mean_value = trainData['Age'].mean()\n",
    "trainData['Age'] = trainData['Age'].fillna(29.7)"
   ]
  },
  {
   "cell_type": "code",
   "execution_count": 82,
   "metadata": {},
   "outputs": [],
   "source": [
    "xTrain = trainData[[\"Pclass\", \"SibSp\", \"Parch\", \"Fare\",\"Embarked\",\"Sex\"]]\n",
    "xTrain = pd.concat([xTrain, pd.get_dummies(xTrain[\"Embarked\"],prefix = \"Embarked\")],axis = 1)\n",
    "xTrain = pd.concat([xTrain, pd.get_dummies(xTrain[\"Sex\"],prefix = \"Sex\")],axis = 1)\n",
    "xTrain.drop([\"Embarked\",\"Sex\"],axis = 1, inplace = True)\n",
    "\n",
    "\n",
    "yTrain = trainData[\"Survived\"]\n",
    "\n",
    "\n",
    "xTest = testData[[\"Pclass\", \"SibSp\", \"Parch\", \"Fare\", \"Age\",\"Embarked\",\"Sex\"]]\n",
    "xTest = pd.concat([xTest, pd.get_dummies(xTest[\"Embarked\"],prefix = \"Embarked\")],axis = 1)\n",
    "xTest = pd.concat([xTest, pd.get_dummies(xTest[\"Sex\"],prefix = \"Sex\")],axis = 1)\n",
    "xTest.drop([\"Embarked\",\"Sex\"],axis = 1, inplace = True)"
   ]
  },
  {
   "cell_type": "code",
   "execution_count": 83,
   "metadata": {},
   "outputs": [
    {
     "name": "stdout",
     "output_type": "stream",
     "text": [
      "             Pclass  SibSp  Parch     Fare  Embarked_C  Embarked_Q  \\\n",
      "PassengerId                                                          \n",
      "1                 3      1      0   7.2500           0           0   \n",
      "2                 1      1      0  71.2833           1           0   \n",
      "3                 3      0      0   7.9250           0           0   \n",
      "4                 1      1      0  53.1000           0           0   \n",
      "5                 3      0      0   8.0500           0           0   \n",
      "6                 3      0      0   8.4583           0           1   \n",
      "7                 1      0      0  51.8625           0           0   \n",
      "8                 3      3      1  21.0750           0           0   \n",
      "9                 3      0      2  11.1333           0           0   \n",
      "10                2      1      0  30.0708           1           0   \n",
      "11                3      1      1  16.7000           0           0   \n",
      "12                1      0      0  26.5500           0           0   \n",
      "13                3      0      0   8.0500           0           0   \n",
      "14                3      1      5  31.2750           0           0   \n",
      "15                3      0      0   7.8542           0           0   \n",
      "16                2      0      0  16.0000           0           0   \n",
      "17                3      4      1  29.1250           0           1   \n",
      "18                2      0      0  13.0000           0           0   \n",
      "19                3      1      0  18.0000           0           0   \n",
      "20                3      0      0   7.2250           1           0   \n",
      "\n",
      "             Embarked_S  Sex_female  Sex_male  \n",
      "PassengerId                                    \n",
      "1                     1           0         1  \n",
      "2                     0           1         0  \n",
      "3                     1           1         0  \n",
      "4                     1           1         0  \n",
      "5                     1           0         1  \n",
      "6                     0           0         1  \n",
      "7                     1           0         1  \n",
      "8                     1           0         1  \n",
      "9                     1           1         0  \n",
      "10                    0           1         0  \n",
      "11                    1           1         0  \n",
      "12                    1           1         0  \n",
      "13                    1           0         1  \n",
      "14                    1           0         1  \n",
      "15                    1           1         0  \n",
      "16                    1           1         0  \n",
      "17                    0           0         1  \n",
      "18                    1           0         1  \n",
      "19                    1           1         0  \n",
      "20                    0           1         0  \n"
     ]
    }
   ],
   "source": [
    "# print(trainData.head(20))\n",
    "print(xTrain.head(20))"
   ]
  },
  {
   "cell_type": "code",
   "execution_count": 32,
   "metadata": {},
   "outputs": [],
   "source": [
    "x_train, x_test, y_train, y_test = train_test_split(xTrain,yTrain, test_size = 0.4) "
   ]
  },
  {
   "cell_type": "code",
   "execution_count": 33,
   "metadata": {},
   "outputs": [],
   "source": [
    "scores = []\n",
    "for k in range(1, 150):\n",
    "    knn = KNeighborsClassifier(n_neighbors = k)\n",
    "    knn.fit(x_train,y_train)\n",
    "    y_pred = knn.predict(x_test)\n",
    "    scores.append(metrics.accuracy_score(y_test, y_pred))"
   ]
  },
  {
   "cell_type": "code",
   "execution_count": 34,
   "metadata": {},
   "outputs": [
    {
     "name": "stdout",
     "output_type": "stream",
     "text": [
      "0.6610644257703081 0\n",
      "0.6638655462184874 1\n",
      "0.6526610644257703 2\n",
      "0.6666666666666666 3\n",
      "0.6610644257703081 4\n",
      "0.6694677871148459 5\n",
      "0.6666666666666666 6\n",
      "0.6722689075630253 7\n",
      "0.6638655462184874 8\n",
      "0.6918767507002801 9\n",
      "0.6834733893557423 10\n",
      "0.6946778711484594 11\n",
      "0.6918767507002801 12\n",
      "0.7002801120448179 13\n",
      "0.7002801120448179 14\n",
      "0.6974789915966386 15\n",
      "0.7058823529411765 16\n",
      "0.7030812324929971 17\n",
      "0.6890756302521008 18\n",
      "0.7002801120448179 19\n",
      "0.6862745098039216 20\n",
      "0.7002801120448179 21\n",
      "0.680672268907563 22\n",
      "0.7002801120448179 23\n",
      "0.6946778711484594 24\n",
      "0.7002801120448179 25\n",
      "0.6890756302521008 26\n",
      "0.6918767507002801 27\n",
      "0.6862745098039216 28\n",
      "0.6862745098039216 29\n",
      "0.6834733893557423 30\n",
      "0.680672268907563 31\n",
      "0.6694677871148459 32\n",
      "0.6778711484593838 33\n",
      "0.6638655462184874 34\n",
      "0.6666666666666666 35\n",
      "0.6722689075630253 36\n",
      "0.6750700280112045 37\n",
      "0.6862745098039216 38\n",
      "0.6666666666666666 39\n",
      "0.6722689075630253 40\n",
      "0.6750700280112045 41\n",
      "0.6694677871148459 42\n",
      "0.680672268907563 43\n",
      "0.6638655462184874 44\n",
      "0.6778711484593838 45\n",
      "0.6778711484593838 46\n",
      "0.680672268907563 47\n",
      "0.6778711484593838 48\n",
      "0.6638655462184874 49\n",
      "0.6694677871148459 50\n",
      "0.6666666666666666 51\n",
      "0.6722689075630253 52\n",
      "0.6582633053221288 53\n",
      "0.6610644257703081 54\n",
      "0.6638655462184874 55\n",
      "0.6582633053221288 56\n",
      "0.6554621848739496 57\n",
      "0.6554621848739496 58\n",
      "0.6554621848739496 59\n",
      "0.6610644257703081 60\n",
      "0.6610644257703081 61\n",
      "0.6694677871148459 62\n",
      "0.6554621848739496 63\n",
      "0.6526610644257703 64\n",
      "0.6442577030812325 65\n",
      "0.6386554621848739 66\n",
      "0.6470588235294118 67\n",
      "0.6470588235294118 68\n",
      "0.6498599439775911 69\n",
      "0.6526610644257703 70\n",
      "0.6526610644257703 71\n",
      "0.6526610644257703 72\n",
      "0.6470588235294118 73\n",
      "0.6498599439775911 74\n",
      "0.6498599439775911 75\n",
      "0.6498599439775911 76\n",
      "0.6526610644257703 77\n",
      "0.6554621848739496 78\n",
      "0.6526610644257703 79\n",
      "0.6526610644257703 80\n",
      "0.6526610644257703 81\n",
      "0.6554621848739496 82\n",
      "0.6498599439775911 83\n",
      "0.6526610644257703 84\n",
      "0.6554621848739496 85\n",
      "0.6554621848739496 86\n",
      "0.6582633053221288 87\n",
      "0.6554621848739496 88\n",
      "0.6554621848739496 89\n",
      "0.6610644257703081 90\n",
      "0.6526610644257703 91\n",
      "0.6554621848739496 92\n",
      "0.6526610644257703 93\n",
      "0.6526610644257703 94\n",
      "0.6526610644257703 95\n",
      "0.6582633053221288 96\n",
      "0.6498599439775911 97\n",
      "0.6526610644257703 98\n",
      "0.6526610644257703 99\n",
      "0.6498599439775911 100\n",
      "0.6610644257703081 101\n",
      "0.6582633053221288 102\n",
      "0.6498599439775911 103\n",
      "0.6526610644257703 104\n",
      "0.6470588235294118 105\n",
      "0.6526610644257703 106\n",
      "0.6554621848739496 107\n",
      "0.6554621848739496 108\n",
      "0.6554621848739496 109\n",
      "0.6554621848739496 110\n",
      "0.6526610644257703 111\n",
      "0.6526610644257703 112\n",
      "0.6610644257703081 113\n",
      "0.6498599439775911 114\n",
      "0.6498599439775911 115\n",
      "0.6526610644257703 116\n",
      "0.6526610644257703 117\n",
      "0.6554621848739496 118\n",
      "0.6498599439775911 119\n",
      "0.6498599439775911 120\n",
      "0.6498599439775911 121\n",
      "0.6498599439775911 122\n",
      "0.6582633053221288 123\n",
      "0.6526610644257703 124\n",
      "0.6582633053221288 125\n",
      "0.6498599439775911 126\n",
      "0.6498599439775911 127\n",
      "0.6526610644257703 128\n",
      "0.6470588235294118 129\n",
      "0.6526610644257703 130\n",
      "0.6498599439775911 131\n",
      "0.6498599439775911 132\n",
      "0.6526610644257703 133\n",
      "0.6498599439775911 134\n",
      "0.6554621848739496 135\n",
      "0.6582633053221288 136\n",
      "0.6582633053221288 137\n",
      "0.6582633053221288 138\n",
      "0.6582633053221288 139\n",
      "0.6498599439775911 140\n",
      "0.6498599439775911 141\n",
      "0.6498599439775911 142\n",
      "0.6526610644257703 143\n",
      "0.6470588235294118 144\n",
      "0.6442577030812325 145\n",
      "0.6498599439775911 146\n",
      "0.6526610644257703 147\n",
      "0.6526610644257703 148\n"
     ]
    },
    {
     "data": {
      "text/plain": [
       "<matplotlib.collections.PathCollection at 0x2654495ba20>"
      ]
     },
     "execution_count": 34,
     "metadata": {},
     "output_type": "execute_result"
    },
    {
     "data": {
      "image/png": "[encoded data removed]",
      "text/plain": [
       "<Figure size 432x288 with 1 Axes>"
      ]
     },
     "metadata": {
      "needs_background": "light"
     },
     "output_type": "display_data"
    }
   ],
   "source": [
    "%matplotlib inline\n",
    "for i in range(len(scores)):\n",
    "    print(scores[i],i)\n",
    "plt.scatter(list(range(1,150)), scores)"
   ]
  },
  {
   "cell_type": "code",
   "execution_count": 77,
   "metadata": {},
   "outputs": [
    {
     "name": "stdout",
     "output_type": "stream",
     "text": [
      "(891, 10)\n",
      "(891,)\n"
     ]
    }
   ],
   "source": [
    "print(xTrain.shape)\n",
    "print(yTrain.shape)"
   ]
  },
  {
   "cell_type": "code",
   "execution_count": 84,
   "metadata": {},
   "outputs": [
    {
     "name": "stderr",
     "output_type": "stream",
     "text": [
      "100%|████████████████████████████████████████████████████████████████████████████████| 149/149 [00:11<00:00, 13.05it/s]\n"
     ]
    },
    {
     "data": {
      "text/plain": [
       "<matplotlib.collections.PathCollection at 0x26547751080>"
      ]
     },
     "execution_count": 84,
     "metadata": {},
     "output_type": "execute_result"
    },
    {
     "data": {
      "image/png": "[encoded data removed]",
      "text/plain": [
       "<Figure size 432x288 with 1 Axes>"
      ]
     },
     "metadata": {
      "needs_background": "light"
     },
     "output_type": "display_data"
    }
   ],
   "source": [
    "# from sklearn import KFold\n",
    "# kf = KFold(n_split = 5,shuffle = false).split(range(891))\n",
    "scores = []\n",
    "from sklearn.model_selection import cross_val_score\n",
    "for k in tqdm(range(1,150)):\n",
    "    knn = KNeighborsClassifier(n_neighbors = k)\n",
    "    kscores = cross_val_score(knn,xTrain,yTrain,cv = 10,scoring = \"accuracy\")\n",
    "    scores.append(kscores.mean())\n",
    "plt.scatter(list(range(1,150)),scores)"
   ]
  },
  {
   "cell_type": "code",
   "execution_count": 85,
   "metadata": {},
   "outputs": [
    {
     "name": "stdout",
     "output_type": "stream",
     "text": [
      "8\n",
      "0.7397565543071162\n"
     ]
    }
   ],
   "source": [
    "print(scores.index(max(scores)))\n",
    "print(scores[16])"
   ]
  }
 ],
 "metadata": {
  "kernelspec": {
   "display_name": "Python 3",
   "language": "python",
   "name": "python3"
  },
  "language_info": {
   "codemirror_mode": {
    "name": "ipython",
    "version": 3
   },
   "file_extension": ".py",
   "mimetype": "text/x-python",
   "name": "python",
   "nbconvert_exporter": "python",
   "pygments_lexer": "ipython3",
   "version": "3.7.3"
  }
 },
 "nbformat": 4,
 "nbformat_minor": 2
}
