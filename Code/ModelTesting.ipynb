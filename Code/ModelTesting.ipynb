{
 "cells": [
  {
   "cell_type": "code",
   "execution_count": 32,
   "metadata": {},
   "outputs": [
    {
     "name": "stdout",
     "output_type": "stream",
     "text": [
      "             Pclass  SibSp  Parch     Fare Embarked     Sex  \\\n",
      "PassengerId                                                   \n",
      "1                 3      1      0   7.2500        S    male   \n",
      "2                 1      1      0  71.2833        C  female   \n",
      "3                 3      0      0   7.9250        S  female   \n",
      "4                 1      1      0  53.1000        S  female   \n",
      "5                 3      0      0   8.0500        S    male   \n",
      "\n",
      "                                                          Name  \n",
      "PassengerId                                                     \n",
      "1                                      Braund, Mr. Owen Harris  \n",
      "2            Cumings, Mrs. John Bradley (Florence Briggs Th...  \n",
      "3                                       Heikkinen, Miss. Laina  \n",
      "4                 Futrelle, Mrs. Jacques Heath (Lily May Peel)  \n",
      "5                                     Allen, Mr. William Henry  \n"
     ]
    },
    {
     "name": "stderr",
     "output_type": "stream",
     "text": [
      "Preprocessing.ipynb:1: SettingWithCopyWarning: \n",
      "A value is trying to be set on a copy of a slice from a DataFrame.\n",
      "Try using .loc[row_indexer,col_indexer] = value instead\n",
      "\n",
      "See the caveats in the documentation: http://pandas.pydata.org/pandas-docs/stable/indexing.html#indexing-view-versus-copy\n",
      "  {\n",
      "Preprocessing.ipynb:2: SettingWithCopyWarning: \n",
      "A value is trying to be set on a copy of a slice from a DataFrame.\n",
      "Try using .loc[row_indexer,col_indexer] = value instead\n",
      "\n",
      "See the caveats in the documentation: http://pandas.pydata.org/pandas-docs/stable/indexing.html#indexing-view-versus-copy\n",
      "  \"cells\": [\n",
      "C:\\Users\\Ofir\\Anaconda3\\lib\\site-packages\\pandas\\core\\frame.py:3940: SettingWithCopyWarning: \n",
      "A value is trying to be set on a copy of a slice from a DataFrame\n",
      "\n",
      "See the caveats in the documentation: http://pandas.pydata.org/pandas-docs/stable/indexing.html#indexing-view-versus-copy\n",
      "  errors=errors)\n",
      "C:\\Users\\Ofir\\Anaconda3\\lib\\site-packages\\pandas\\core\\generic.py:6586: SettingWithCopyWarning: \n",
      "A value is trying to be set on a copy of a slice from a DataFrame\n",
      "\n",
      "See the caveats in the documentation: http://pandas.pydata.org/pandas-docs/stable/indexing.html#indexing-view-versus-copy\n",
      "  self._update_inplace(new_data)\n"
     ]
    },
    {
     "name": "stdout",
     "output_type": "stream",
     "text": [
      "             Pclass  SibSp  Parch     Fare Embarked     Sex Title\n",
      "PassengerId                                                      \n",
      "1                 3      1      0   7.2500        S    male    Mr\n",
      "2                 1      1      0  71.2833        C  female   Mrs\n",
      "3                 3      0      0   7.9250        S  female  Miss\n",
      "4                 1      1      0  53.1000        S  female   Mrs\n",
      "5                 3      0      0   8.0500        S    male    Mr\n"
     ]
    },
    {
     "name": "stderr",
     "output_type": "stream",
     "text": [
      "Preprocessing.ipynb:2: SettingWithCopyWarning: \n",
      "A value is trying to be set on a copy of a slice from a DataFrame.\n",
      "Try using .loc[row_indexer,col_indexer] = value instead\n",
      "\n",
      "See the caveats in the documentation: http://pandas.pydata.org/pandas-docs/stable/indexing.html#indexing-view-versus-copy\n",
      "  \"cells\": [\n",
      "Preprocessing.ipynb:3: SettingWithCopyWarning: \n",
      "A value is trying to be set on a copy of a slice from a DataFrame.\n",
      "Try using .loc[row_indexer,col_indexer] = value instead\n",
      "\n",
      "See the caveats in the documentation: http://pandas.pydata.org/pandas-docs/stable/indexing.html#indexing-view-versus-copy\n",
      "  {\n",
      "Preprocessing.ipynb:4: SettingWithCopyWarning: \n",
      "A value is trying to be set on a copy of a slice from a DataFrame.\n",
      "Try using .loc[row_indexer,col_indexer] = value instead\n",
      "\n",
      "See the caveats in the documentation: http://pandas.pydata.org/pandas-docs/stable/indexing.html#indexing-view-versus-copy\n",
      "  \"cell_type\": \"code\",\n",
      "Preprocessing.ipynb:9: SettingWithCopyWarning: \n",
      "A value is trying to be set on a copy of a slice from a DataFrame.\n",
      "Try using .loc[row_indexer,col_indexer] = value instead\n",
      "\n",
      "See the caveats in the documentation: http://pandas.pydata.org/pandas-docs/stable/indexing.html#indexing-view-versus-copy\n",
      "  \"import numpy as np\\n\",\n",
      "Preprocessing.ipynb:10: SettingWithCopyWarning: \n",
      "A value is trying to be set on a copy of a slice from a DataFrame.\n",
      "Try using .loc[row_indexer,col_indexer] = value instead\n",
      "\n",
      "See the caveats in the documentation: http://pandas.pydata.org/pandas-docs/stable/indexing.html#indexing-view-versus-copy\n",
      "  \"import pandas as pd\\n\",\n",
      "Preprocessing.ipynb:11: SettingWithCopyWarning: \n",
      "A value is trying to be set on a copy of a slice from a DataFrame.\n",
      "Try using .loc[row_indexer,col_indexer] = value instead\n",
      "\n",
      "See the caveats in the documentation: http://pandas.pydata.org/pandas-docs/stable/indexing.html#indexing-view-versus-copy\n",
      "  \"import seaborn as sb\\n\",\n"
     ]
    },
    {
     "name": "stdout",
     "output_type": "stream",
     "text": [
      "             Pclass  SibSp  Parch     Fare  Embarked  Sex  Title\n",
      "PassengerId                                                     \n",
      "892               3      0      0   7.8292         1    1      3\n",
      "893               3      1      0   7.0000         2    0      4\n",
      "894               2      0      0   9.6875         1    1      3\n",
      "895               3      0      0   8.6625         2    1      3\n",
      "896               3      1      1  12.2875         2    0      4\n"
     ]
    }
   ],
   "source": [
    "from sklearn import metrics\n",
    "from sklearn.neighbors import KNeighborsClassifier \n",
    "from sklearn.model_selection import train_test_split\n",
    "import csv\n",
    "from sklearn.neural_network import MLPClassifier\n",
    "from sklearn.neural_network import MLPRegressor\n",
    "from sklearn.metrics import r2_score\n",
    "from sklearn.metrics import classification_report,confusion_matrix\n",
    "#imports ipynb file\n",
    "%run Preprocessing.ipynb"
   ]
  },
  {
   "cell_type": "code",
   "execution_count": 2,
   "metadata": {},
   "outputs": [
    {
     "name": "stdout",
     "output_type": "stream",
     "text": [
      "             Pclass  SibSp  Parch     Fare  Embarked  Sex  Title\n",
      "PassengerId                                                     \n",
      "1                 3      1      0   7.2500         2    1      3\n",
      "2                 1      1      0  71.2833         0    0      4\n",
      "3                 3      0      0   7.9250         2    0      2\n",
      "4                 1      1      0  53.1000         2    0      4\n",
      "5                 3      0      0   8.0500         2    1      3\n"
     ]
    }
   ],
   "source": [
    "print(xTrain.head())"
   ]
  },
  {
   "cell_type": "code",
   "execution_count": 34,
   "metadata": {},
   "outputs": [
    {
     "name": "stdout",
     "output_type": "stream",
     "text": [
      "             Pclass  SibSp  Parch      Fare  Embarked  Sex  Title\n",
      "PassengerId                                                      \n",
      "148               3      2      2   34.3750         2    0      2\n",
      "223               3      0      0    8.0500         2    1      3\n",
      "610               1      0      0  153.4625         2    0      2\n",
      "682               1      0      0   76.7292         0    1      3\n",
      "486               3      3      1   25.4667         2    0      2\n"
     ]
    }
   ],
   "source": [
    "x_train, x_test, y_train, y_test = train_test_split(xTrain,yTrain, test_size = 0.4,random_state = 1)\n",
    "print(x_train.head())\n",
    "scores = []\n",
    "for k in range(1, 150):\n",
    "    knn = KNeighborsClassifier(n_neighbors = k)\n",
    "    knn.fit(x_train,y_train)\n",
    "    y_pred = knn.predict(x_test)\n",
    "    scores.append(metrics.accuracy_score(y_test, y_pred))"
   ]
  },
  {
   "cell_type": "code",
   "execution_count": 9,
   "metadata": {},
   "outputs": [
    {
     "name": "stdout",
     "output_type": "stream",
     "text": [
      "0.7050561797752809 0\n",
      "0.6938202247191011 1\n",
      "0.7584269662921348 2\n",
      "0.7275280898876404 3\n",
      "0.7612359550561798 4\n",
      "0.7303370786516854 5\n",
      "0.7443820224719101 6\n",
      "0.7162921348314607 7\n",
      "0.7359550561797753 8\n",
      "0.7162921348314607 9\n",
      "0.7331460674157303 10\n",
      "0.7191011235955056 11\n",
      "0.7387640449438202 12\n",
      "0.7191011235955056 13\n",
      "0.7303370786516854 14\n",
      "0.7247191011235955 15\n",
      "0.7219101123595506 16\n",
      "0.702247191011236 17\n",
      "0.6882022471910112 18\n",
      "0.7050561797752809 19\n",
      "0.699438202247191 20\n",
      "0.7106741573033708 21\n",
      "0.7050561797752809 22\n",
      "0.699438202247191 23\n",
      "0.6966292134831461 24\n",
      "0.7050561797752809 25\n",
      "0.7106741573033708 26\n",
      "0.699438202247191 27\n",
      "0.6966292134831461 28\n",
      "0.6910112359550562 29\n",
      "0.699438202247191 30\n",
      "0.6910112359550562 31\n",
      "0.7050561797752809 32\n",
      "0.702247191011236 33\n",
      "0.702247191011236 34\n",
      "0.6882022471910112 35\n",
      "0.6797752808988764 36\n",
      "0.6769662921348315 37\n",
      "0.6797752808988764 38\n",
      "0.6797752808988764 39\n",
      "0.6713483146067416 40\n",
      "0.6685393258426966 41\n",
      "0.6657303370786517 42\n",
      "0.6657303370786517 43\n",
      "0.6573033707865169 44\n",
      "0.6685393258426966 45\n",
      "0.6685393258426966 46\n",
      "0.6685393258426966 47\n",
      "0.6573033707865169 48\n",
      "0.6657303370786517 49\n",
      "0.6657303370786517 50\n",
      "0.6657303370786517 51\n",
      "0.6685393258426966 52\n",
      "0.6601123595505618 53\n",
      "0.6629213483146067 54\n",
      "0.651685393258427 55\n",
      "0.6460674157303371 56\n",
      "0.6432584269662921 57\n",
      "0.6432584269662921 58\n",
      "0.6460674157303371 59\n",
      "0.6460674157303371 60\n",
      "0.6460674157303371 61\n",
      "0.6460674157303371 62\n",
      "0.651685393258427 63\n",
      "0.6460674157303371 64\n",
      "0.6544943820224719 65\n",
      "0.651685393258427 66\n",
      "0.648876404494382 67\n",
      "0.648876404494382 68\n",
      "0.651685393258427 69\n",
      "0.6544943820224719 70\n",
      "0.6544943820224719 71\n",
      "0.6544943820224719 72\n",
      "0.651685393258427 73\n",
      "0.6573033707865169 74\n",
      "0.6573033707865169 75\n",
      "0.6544943820224719 76\n",
      "0.6573033707865169 77\n",
      "0.6544943820224719 78\n",
      "0.6601123595505618 79\n",
      "0.6657303370786517 80\n",
      "0.6601123595505618 81\n",
      "0.6629213483146067 82\n",
      "0.6657303370786517 83\n",
      "0.6769662921348315 84\n",
      "0.6685393258426966 85\n",
      "0.6713483146067416 86\n",
      "0.6685393258426966 87\n",
      "0.6685393258426966 88\n",
      "0.6685393258426966 89\n",
      "0.6657303370786517 90\n",
      "0.6601123595505618 91\n",
      "0.6573033707865169 92\n",
      "0.6573033707865169 93\n",
      "0.6601123595505618 94\n",
      "0.6601123595505618 95\n",
      "0.6601123595505618 96\n",
      "0.6601123595505618 97\n",
      "0.6432584269662921 98\n",
      "0.6460674157303371 99\n",
      "0.6432584269662921 100\n",
      "0.6460674157303371 101\n",
      "0.6432584269662921 102\n",
      "0.648876404494382 103\n",
      "0.648876404494382 104\n",
      "0.651685393258427 105\n",
      "0.648876404494382 106\n",
      "0.651685393258427 107\n",
      "0.651685393258427 108\n",
      "0.651685393258427 109\n",
      "0.651685393258427 110\n",
      "0.651685393258427 111\n",
      "0.651685393258427 112\n",
      "0.651685393258427 113\n",
      "0.6544943820224719 114\n",
      "0.6544943820224719 115\n",
      "0.651685393258427 116\n",
      "0.6573033707865169 117\n",
      "0.6601123595505618 118\n",
      "0.6629213483146067 119\n",
      "0.6601123595505618 120\n",
      "0.6713483146067416 121\n",
      "0.6769662921348315 122\n",
      "0.6741573033707865 123\n",
      "0.6797752808988764 124\n",
      "0.6797752808988764 125\n",
      "0.6797752808988764 126\n",
      "0.6741573033707865 127\n",
      "0.6769662921348315 128\n",
      "0.6741573033707865 129\n",
      "0.6657303370786517 130\n",
      "0.6657303370786517 131\n",
      "0.6629213483146067 132\n",
      "0.6713483146067416 133\n",
      "0.6713483146067416 134\n",
      "0.6685393258426966 135\n",
      "0.6685393258426966 136\n",
      "0.6657303370786517 137\n",
      "0.6657303370786517 138\n",
      "0.6657303370786517 139\n",
      "0.6657303370786517 140\n",
      "0.6657303370786517 141\n",
      "0.6685393258426966 142\n",
      "0.6685393258426966 143\n",
      "0.6657303370786517 144\n",
      "0.6657303370786517 145\n",
      "0.6657303370786517 146\n",
      "0.6657303370786517 147\n",
      "0.6657303370786517 148\n",
      "0.7612359550561798\n"
     ]
    },
    {
     "data": {
      "image/png": "[encoded data removed]",
      "text/plain": [
       "<Figure size 432x288 with 1 Axes>"
      ]
     },
     "metadata": {
      "needs_background": "light"
     },
     "output_type": "display_data"
    }
   ],
   "source": [
    "for i in range(len(scores)):\n",
    "    print(scores[i],i)\n",
    "plt.scatter(list(range(1,150)), scores)\n",
    "print(max(scores))"
   ]
  },
  {
   "cell_type": "code",
   "execution_count": 21,
   "metadata": {},
   "outputs": [
    {
     "name": "stderr",
     "output_type": "stream",
     "text": [
      "100%|████████████████████████████████████████████████████████████████████████████████| 100/100 [00:15<00:00,  7.18it/s]\n"
     ]
    },
    {
     "name": "stdout",
     "output_type": "stream",
     "text": [
      "0.8146067415730337\n",
      "0.8455056179775281\n"
     ]
    }
   ],
   "source": [
    "results = []\n",
    "from sklearn.ensemble import RandomForestClassifier\n",
    "for i in tqdm(range(100)):\n",
    "    clf = RandomForestClassifier(n_estimators = 100,warm_start=True)\n",
    "    clf.fit(x_train,y_train)\n",
    "    y_pred = clf.predict(x_test)\n",
    "    results.append(metrics.accuracy_score(y_test, y_pred))\n",
    "# feature_imp = pd.Series(clf.feature_importances_,index=[\"Pclass\",\"SibSp\",\"Parch\",\"Fare\",\"Embarked_C\",\"Embarked_Q\",\"Embarked_S\",\"Sex_female\",\"Sex_male\"]).sort_values(ascending=False)\n",
    "# print(feature_imp)\n",
    "print(min(results))\n",
    "print(max(results))"
   ]
  },
  {
   "cell_type": "code",
   "execution_count": 22,
   "metadata": {},
   "outputs": [],
   "source": [
    "clf = RandomForestClassifier(n_estimators = 100,warm_start=True)\n",
    "clf.fit(xTrain,yTrain)\n",
    "y_pred = clf.predict(xTest)"
   ]
  },
  {
   "cell_type": "code",
   "execution_count": 24,
   "metadata": {},
   "outputs": [
    {
     "name": "stdout",
     "output_type": "stream",
     "text": [
      "[0 0 0 0 0 0 0 0 1 0 0 0 1 0 1 1 0 0 0 1 1 1 1 0 1 0 1 0 1 0 0 0 1 0 1 0 0\n",
      " 0 0 1 0 0 0 1 1 0 0 0 1 1 0 0 1 1 0 0 0 0 0 1 0 0 0 1 1 1 1 0 0 1 1 0 1 0\n",
      " 1 0 0 1 0 1 1 0 0 0 0 0 1 0 1 1 0 0 1 0 0 0 1 0 0 0 1 0 0 0 1 0 0 0 0 0 0\n",
      " 1 1 0 1 0 0 1 1 1 1 0 1 0 0 1 0 1 0 0 0 0 0 0 0 0 0 0 0 0 0 1 0 0 0 0 0 0\n",
      " 0 0 1 0 0 1 0 0 1 0 0 1 1 1 1 1 0 1 0 0 1 0 0 0 0 0 0 1 1 1 1 1 0 1 1 0 1\n",
      " 0 1 0 0 0 0 0 1 0 1 0 1 0 0 0 1 1 0 1 0 0 1 0 0 0 0 0 0 1 1 0 1 0 1 0 1 0\n",
      " 1 0 1 0 0 1 0 0 0 1 0 0 1 0 1 0 1 1 1 1 0 0 1 0 1 0 1 1 1 0 0 0 0 0 0 0 1\n",
      " 0 0 0 1 1 0 0 0 0 0 0 1 0 1 1 0 1 0 0 0 0 0 1 1 0 1 0 0 0 0 0 0 0 0 1 0 0\n",
      " 1 0 0 0 0 0 0 0 1 1 1 1 0 0 0 0 0 1 1 1 0 0 0 0 0 0 0 0 1 0 1 0 0 0 1 0 0\n",
      " 0 0 0 0 0 0 1 0 0 0 1 1 1 0 1 0 1 1 0 0 0 1 0 1 0 0 1 0 1 1 0 1 0 0 1 1 1\n",
      " 0 1 0 0 1 1 0 0 0 0 0 0 1 1 0 1 0 0 0 0 0 1 1 0 0 1 0 1 0 0 1 0 1 0 0 1 0\n",
      " 0 1 1 1 1 0 0 1 0 0 1]\n"
     ]
    }
   ],
   "source": [
    "print(y_pred)"
   ]
  },
  {
   "cell_type": "code",
   "execution_count": 25,
   "metadata": {},
   "outputs": [],
   "source": [
    "with open('../Results/Version_7.csv', mode='w', newline='') as file:\n",
    "    file_writer = csv.writer(file, delimiter=',')\n",
    "    file_writer.writerow(['PassengerId', 'Survived'])\n",
    "    for i in range(len(y_pred)):\n",
    "        file_writer.writerow([i+892, y_pred[i]])"
   ]
  },
  {
   "cell_type": "code",
   "execution_count": 28,
   "metadata": {},
   "outputs": [],
   "source": [
    "mlp = MLPClassifier(hidden_layer_sizes=(9,9,9), activation='relu', solver='adam', max_iter=5000)\n",
    "mlp.fit(xTrain, yTrain)\n",
    "predict_test = mlp.predict(xTest)\n",
    "with open('../Results/Version_8.csv', mode='w', newline='') as file:\n",
    "    file_writer = csv.writer(file, delimiter=',')\n",
    "    file_writer.writerow(['PassengerId', 'Survived'])\n",
    "    for i in range(len(predict_test)):\n",
    "        file_writer.writerow([i+892, predict_test[i]])"
   ]
  },
  {
   "cell_type": "code",
   "execution_count": 35,
   "metadata": {},
   "outputs": [
    {
     "name": "stdout",
     "output_type": "stream",
     "text": [
      "[[177  41]\n",
      " [ 36 102]]\n",
      "              precision    recall  f1-score   support\n",
      "\n",
      "           0       0.83      0.81      0.82       218\n",
      "           1       0.71      0.74      0.73       138\n",
      "\n",
      "    accuracy                           0.78       356\n",
      "   macro avg       0.77      0.78      0.77       356\n",
      "weighted avg       0.79      0.78      0.78       356\n",
      "\n"
     ]
    }
   ],
   "source": [
    "mlp = MLPClassifier(hidden_layer_sizes=(9,9,9), activation='relu', solver='adam', max_iter=5000)\n",
    "mlp.fit(x_train,y_train)\n",
    "\n",
    "predict_train = mlp.predict(x_train)\n",
    "predict_test = mlp.predict(x_test)\n",
    "print(confusion_matrix(y_test,predict_test))\n",
    "print(classification_report(y_test,predict_test))"
   ]
  }
 ],
 "metadata": {
  "kernelspec": {
   "display_name": "Python 3",
   "language": "python",
   "name": "python3"
  },
  "language_info": {
   "codemirror_mode": {
    "name": "ipython",
    "version": 3
   },
   "file_extension": ".py",
   "mimetype": "text/x-python",
   "name": "python",
   "nbconvert_exporter": "python",
   "pygments_lexer": "ipython3",
   "version": "3.7.3"
  }
 },
 "nbformat": 4,
 "nbformat_minor": 2
}
